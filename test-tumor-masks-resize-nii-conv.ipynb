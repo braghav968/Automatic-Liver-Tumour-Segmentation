{
 "cells": [
  {
   "cell_type": "code",
   "execution_count": 1,
   "metadata": {
    "_cell_guid": "b1076dfc-b9ad-4769-8c92-a6c4dae69d19",
    "_uuid": "8f2839f25d086af736a60e9eeb907d3b93b6e0e5",
    "execution": {
     "iopub.execute_input": "2021-04-27T09:07:27.887990Z",
     "iopub.status.busy": "2021-04-27T09:07:27.886765Z",
     "iopub.status.idle": "2021-04-27T09:07:28.440092Z",
     "shell.execute_reply": "2021-04-27T09:07:28.439249Z"
    },
    "papermill": {
     "duration": 0.56858,
     "end_time": "2021-04-27T09:07:28.440310",
     "exception": false,
     "start_time": "2021-04-27T09:07:27.871730",
     "status": "completed"
    },
    "tags": []
   },
   "outputs": [],
   "source": [
    "import os\n",
    "import numpy as np\n",
    "import cv2\n",
    "from tqdm import tqdm\n",
    "from PIL import Image\n",
    "import re\n",
    "import matplotlib.pyplot as plt\n",
    "import nibabel as nib\n",
    "import random"
   ]
  },
  {
   "cell_type": "code",
   "execution_count": 2,
   "metadata": {
    "execution": {
     "iopub.execute_input": "2021-04-27T09:07:28.465461Z",
     "iopub.status.busy": "2021-04-27T09:07:28.464812Z",
     "iopub.status.idle": "2021-04-27T09:07:28.471596Z",
     "shell.execute_reply": "2021-04-27T09:07:28.472086Z"
    },
    "papermill": {
     "duration": 0.020995,
     "end_time": "2021-04-27T09:07:28.472330",
     "exception": false,
     "start_time": "2021-04-27T09:07:28.451335",
     "status": "completed"
    },
    "tags": []
   },
   "outputs": [],
   "source": [
    "def visualize(**images):\n",
    "    \"\"\"PLot images in one row.\"\"\"\n",
    "    n = len(images)\n",
    "    plt.figure(figsize=(9, 9))\n",
    "    for i, (name, image) in enumerate(images.items()):\n",
    "        plt.subplot(1, n, i + 1)\n",
    "        plt.xticks([])\n",
    "        plt.yticks([])\n",
    "        plt.title(' '.join(name.split('_')).title())\n",
    "        plt.imshow(image, cmap = 'bone')\n",
    "    plt.show()"
   ]
  },
  {
   "cell_type": "code",
   "execution_count": 3,
   "metadata": {
    "execution": {
     "iopub.execute_input": "2021-04-27T09:07:28.497415Z",
     "iopub.status.busy": "2021-04-27T09:07:28.496703Z",
     "iopub.status.idle": "2021-04-27T09:07:28.500382Z",
     "shell.execute_reply": "2021-04-27T09:07:28.500919Z"
    },
    "papermill": {
     "duration": 0.018032,
     "end_time": "2021-04-27T09:07:28.501141",
     "exception": false,
     "start_time": "2021-04-27T09:07:28.483109",
     "status": "completed"
    },
    "tags": []
   },
   "outputs": [],
   "source": [
    "def convert_nii(data):\n",
    "    nii = nib.Nifti1Image(data ,affine=None)\n",
    "    return nii"
   ]
  },
  {
   "cell_type": "code",
   "execution_count": 4,
   "metadata": {
    "execution": {
     "iopub.execute_input": "2021-04-27T09:07:28.526244Z",
     "iopub.status.busy": "2021-04-27T09:07:28.525617Z",
     "iopub.status.idle": "2021-04-27T09:07:28.530627Z",
     "shell.execute_reply": "2021-04-27T09:07:28.529869Z"
    },
    "papermill": {
     "duration": 0.018967,
     "end_time": "2021-04-27T09:07:28.530788",
     "exception": false,
     "start_time": "2021-04-27T09:07:28.511821",
     "status": "completed"
    },
    "tags": []
   },
   "outputs": [],
   "source": [
    "# os.mkdir('./segmentation')"
   ]
  },
  {
   "cell_type": "code",
   "execution_count": 5,
   "metadata": {
    "execution": {
     "iopub.execute_input": "2021-04-27T09:07:28.565753Z",
     "iopub.status.busy": "2021-04-27T09:07:28.564893Z",
     "iopub.status.idle": "2021-04-27T09:11:02.412128Z",
     "shell.execute_reply": "2021-04-27T09:11:02.411264Z"
    },
    "papermill": {
     "duration": 213.87038,
     "end_time": "2021-04-27T09:11:02.412362",
     "exception": false,
     "start_time": "2021-04-27T09:07:28.541982",
     "status": "completed"
    },
    "tags": []
   },
   "outputs": [
    {
     "name": "stdout",
     "output_type": "stream",
     "text": [
      "(163, 512, 512)\n",
      "(512, 512, 163)\n",
      "test-segmentation-0 163 (512, 512, 163)\n",
      "(249, 512, 512)\n",
      "(512, 512, 249)\n",
      "test-segmentation-1 249 (512, 512, 249)\n",
      "(205, 512, 512)\n",
      "(512, 512, 205)\n",
      "test-segmentation-10 205 (512, 512, 205)\n",
      "(208, 512, 512)\n",
      "(512, 512, 208)\n",
      "test-segmentation-11 208 (512, 512, 208)\n",
      "(97, 512, 512)\n",
      "(512, 512, 97)\n",
      "test-segmentation-12 97 (512, 512, 97)\n",
      "(107, 512, 512)\n",
      "(512, 512, 107)\n",
      "test-segmentation-13 107 (512, 512, 107)\n",
      "(89, 512, 512)\n",
      "(512, 512, 89)\n",
      "test-segmentation-14 89 (512, 512, 89)\n",
      "(147, 512, 512)\n",
      "(512, 512, 147)\n",
      "test-segmentation-15 147 (512, 512, 147)\n",
      "(97, 512, 512)\n",
      "(512, 512, 97)\n",
      "test-segmentation-16 97 (512, 512, 97)\n",
      "(971, 512, 512)\n",
      "(512, 512, 971)\n",
      "test-segmentation-17 971 (512, 512, 971)\n",
      "(180, 512, 512)\n",
      "(512, 512, 180)\n",
      "test-segmentation-18 180 (512, 512, 180)\n",
      "(84, 512, 512)\n",
      "(512, 512, 84)\n",
      "test-segmentation-19 84 (512, 512, 84)\n",
      "(267, 512, 512)\n",
      "(512, 512, 267)\n",
      "test-segmentation-2 267 (512, 512, 267)\n",
      "(209, 512, 512)\n",
      "(512, 512, 209)\n",
      "test-segmentation-20 209 (512, 512, 209)\n",
      "(197, 512, 512)\n",
      "(512, 512, 197)\n",
      "test-segmentation-21 197 (512, 512, 197)\n",
      "(87, 512, 512)\n",
      "(512, 512, 87)\n",
      "test-segmentation-22 87 (512, 512, 87)\n",
      "(85, 512, 512)\n",
      "(512, 512, 85)\n",
      "test-segmentation-23 85 (512, 512, 85)\n",
      "(98, 512, 512)\n",
      "(512, 512, 98)\n",
      "test-segmentation-24 98 (512, 512, 98)\n",
      "(89, 512, 512)\n",
      "(512, 512, 89)\n",
      "test-segmentation-25 89 (512, 512, 89)\n",
      "(112, 512, 512)\n",
      "(512, 512, 112)\n",
      "test-segmentation-26 112 (512, 512, 112)\n",
      "(89, 512, 512)\n",
      "(512, 512, 89)\n",
      "test-segmentation-27 89 (512, 512, 89)\n",
      "(76, 512, 512)\n",
      "(512, 512, 76)\n",
      "test-segmentation-28 76 (512, 512, 76)\n",
      "(225, 512, 512)\n",
      "(512, 512, 225)\n",
      "test-segmentation-29 225 (512, 512, 225)\n",
      "(271, 512, 512)\n",
      "(512, 512, 271)\n",
      "test-segmentation-3 271 (512, 512, 271)\n",
      "(820, 512, 512)\n",
      "(512, 512, 820)\n",
      "test-segmentation-30 820 (512, 512, 820)\n",
      "(760, 512, 512)\n",
      "(512, 512, 760)\n",
      "test-segmentation-31 760 (512, 512, 760)\n",
      "(659, 512, 512)\n",
      "(512, 512, 659)\n",
      "test-segmentation-32 659 (512, 512, 659)\n",
      "(668, 512, 512)\n",
      "(512, 512, 668)\n",
      "test-segmentation-33 668 (512, 512, 668)\n",
      "(947, 512, 512)\n",
      "(512, 512, 947)\n",
      "test-segmentation-34 947 (512, 512, 947)\n",
      "(947, 512, 512)\n",
      "(512, 512, 947)\n",
      "test-segmentation-35 947 (512, 512, 947)\n",
      "(903, 512, 512)\n",
      "(512, 512, 903)\n",
      "test-segmentation-36 903 (512, 512, 903)\n",
      "(472, 512, 512)\n",
      "(512, 512, 472)\n",
      "test-segmentation-37 472 (512, 512, 472)\n",
      "(997, 512, 512)\n",
      "(512, 512, 997)\n",
      "test-segmentation-38 997 (512, 512, 997)\n",
      "(465, 512, 512)\n",
      "(512, 512, 465)\n",
      "test-segmentation-39 465 (512, 512, 465)\n",
      "(206, 512, 512)\n",
      "(512, 512, 206)\n",
      "test-segmentation-4 206 (512, 512, 206)\n",
      "(1026, 512, 512)\n",
      "(512, 512, 1026)\n",
      "test-segmentation-40 1026 (512, 512, 1026)\n",
      "(694, 512, 512)\n",
      "(512, 512, 694)\n",
      "test-segmentation-41 694 (512, 512, 694)\n",
      "(42, 512, 512)\n",
      "(512, 512, 42)\n",
      "test-segmentation-42 42 (512, 512, 42)\n",
      "(55, 512, 512)\n",
      "(512, 512, 55)\n",
      "test-segmentation-43 55 (512, 512, 55)\n",
      "(130, 512, 512)\n",
      "(512, 512, 130)\n",
      "test-segmentation-44 130 (512, 512, 130)\n",
      "(131, 512, 512)\n",
      "(512, 512, 131)\n",
      "test-segmentation-45 131 (512, 512, 131)\n",
      "(419, 512, 512)\n",
      "(512, 512, 419)\n",
      "test-segmentation-46 419 (512, 512, 419)\n",
      "(269, 512, 512)\n",
      "(512, 512, 269)\n",
      "test-segmentation-47 269 (512, 512, 269)\n",
      "(433, 512, 512)\n",
      "(512, 512, 433)\n",
      "test-segmentation-48 433 (512, 512, 433)\n",
      "(124, 512, 512)\n",
      "(512, 512, 124)\n",
      "test-segmentation-49 124 (512, 512, 124)\n",
      "(217, 512, 512)\n",
      "(512, 512, 217)\n",
      "test-segmentation-5 217 (512, 512, 217)\n",
      "(565, 512, 512)\n",
      "(512, 512, 565)\n",
      "test-segmentation-50 565 (512, 512, 565)\n",
      "(610, 512, 512)\n",
      "(512, 512, 610)\n",
      "test-segmentation-51 610 (512, 512, 610)\n",
      "(357, 512, 512)\n",
      "(512, 512, 357)\n",
      "test-segmentation-52 357 (512, 512, 357)\n",
      "(584, 512, 512)\n",
      "(512, 512, 584)\n",
      "test-segmentation-53 584 (512, 512, 584)\n",
      "(784, 512, 512)\n",
      "(512, 512, 784)\n",
      "test-segmentation-54 784 (512, 512, 784)\n",
      "(715, 512, 512)\n",
      "(512, 512, 715)\n",
      "test-segmentation-55 715 (512, 512, 715)\n",
      "(627, 512, 512)\n",
      "(512, 512, 627)\n",
      "test-segmentation-56 627 (512, 512, 627)\n",
      "(629, 512, 512)\n",
      "(512, 512, 629)\n",
      "test-segmentation-57 629 (512, 512, 629)\n",
      "(309, 512, 512)\n",
      "(512, 512, 309)\n",
      "test-segmentation-58 309 (512, 512, 309)\n",
      "(79, 512, 512)\n",
      "(512, 512, 79)\n",
      "test-segmentation-59 79 (512, 512, 79)\n",
      "(176, 512, 512)\n",
      "(512, 512, 176)\n",
      "test-segmentation-6 176 (512, 512, 176)\n",
      "(818, 512, 512)\n",
      "(512, 512, 818)\n",
      "test-segmentation-60 818 (512, 512, 818)\n",
      "(839, 512, 512)\n",
      "(512, 512, 839)\n",
      "test-segmentation-61 839 (512, 512, 839)\n",
      "(300, 512, 512)\n",
      "(512, 512, 300)\n",
      "test-segmentation-62 300 (512, 512, 300)\n",
      "(469, 512, 512)\n",
      "(512, 512, 469)\n",
      "test-segmentation-63 469 (512, 512, 469)\n",
      "(741, 512, 512)\n",
      "(512, 512, 741)\n",
      "test-segmentation-64 741 (512, 512, 741)\n",
      "(321, 512, 512)\n",
      "(512, 512, 321)\n",
      "test-segmentation-65 321 (512, 512, 321)\n",
      "(314, 512, 512)\n",
      "(512, 512, 314)\n",
      "test-segmentation-66 314 (512, 512, 314)\n",
      "(323, 512, 512)\n",
      "(512, 512, 323)\n",
      "test-segmentation-67 323 (512, 512, 323)\n",
      "(335, 512, 512)\n",
      "(512, 512, 335)\n",
      "test-segmentation-68 335 (512, 512, 335)\n",
      "(537, 512, 512)\n",
      "(512, 512, 537)\n",
      "test-segmentation-69 537 (512, 512, 537)\n",
      "(84, 512, 512)\n",
      "(512, 512, 84)\n",
      "test-segmentation-7 84 (512, 512, 84)\n",
      "(120, 512, 512)\n",
      "(512, 512, 120)\n",
      "test-segmentation-8 120 (512, 512, 120)\n",
      "(186, 512, 512)\n",
      "(512, 512, 186)\n",
      "test-segmentation-9 186 (512, 512, 186)\n"
     ]
    }
   ],
   "source": [
    "if __name__ == \"__main__\":\n",
    "    test_mask_path = '../input/mfp-fsm-res-unet-test-masks/test_masks'\n",
    "    save_path=  './'\n",
    "    test_masks= os.listdir(test_mask_path)\n",
    "    \n",
    "    test_masks.sort(key=lambda var:[int(x) if x.isdigit() else x for x in re.findall(r'[^0-9]|[0-9]+', var)])\n",
    "    file_name = [x.split('_')[0] for x in test_masks]\n",
    "    file_name = np.array(file_name)\n",
    "    #file_name = \n",
    "    file_name, slice_number = np.unique(file_name, return_counts=True)\n",
    "    \n",
    "\n",
    "#     file_name_slices = []\n",
    "    \n",
    "#     for file,slices in zip(file_name,slice_number):\n",
    "#         file_name_slices.append((file, slices))\n",
    "    \n",
    "#     file_name_slices.sort(key=str)\n",
    "      \n",
    "    for file in file_name:\n",
    "        count = 0\n",
    "        \n",
    "        numpy_nii = []\n",
    "        \n",
    "        for x in test_masks:\n",
    "            \n",
    "            if(x.split('_')[0] == str(file)):\n",
    "                count = count+1\n",
    "                path = os.path.join(test_mask_path, x)\n",
    "                img = Image.open(f\"{path}\")\n",
    "                img = np.array(img)\n",
    "                #img[img == 1] = 0\n",
    "                numpy_nii.append(img)\n",
    "        \n",
    "        numpy_nii = np.array(numpy_nii)\n",
    "        print(numpy_nii.shape)\n",
    "        numpy_nii = np.swapaxes(numpy_nii, 0, 1)\n",
    "        numpy_nii = np.swapaxes(numpy_nii, 1, 2)\n",
    "        print(numpy_nii.shape)\n",
    "        nii = convert_nii(numpy_nii)\n",
    "        \n",
    "        output_file_name = file.replace('volume','segmentation')\n",
    "        nii.to_filename(os.path.join(save_path, output_file_name))\n",
    "        \n",
    "        print(output_file_name, count, numpy_nii.shape)\n",
    "      \n",
    "          "
   ]
  },
  {
   "cell_type": "code",
   "execution_count": 6,
   "metadata": {
    "execution": {
     "iopub.execute_input": "2021-04-27T09:11:02.528437Z",
     "iopub.status.busy": "2021-04-27T09:11:02.527507Z",
     "iopub.status.idle": "2021-04-27T09:11:59.841974Z",
     "shell.execute_reply": "2021-04-27T09:11:59.842468Z"
    },
    "papermill": {
     "duration": 57.383269,
     "end_time": "2021-04-27T09:11:59.842715",
     "exception": false,
     "start_time": "2021-04-27T09:11:02.459446",
     "status": "completed"
    },
    "tags": []
   },
   "outputs": [
    {
     "name": "stdout",
     "output_type": "stream",
     "text": [
      "  adding: test-segmentation-57.nii (deflated 100%)\r\n",
      "  adding: test-segmentation-49.nii (deflated 100%)\r\n",
      "  adding: test-segmentation-27.nii (deflated 100%)\r\n",
      "  adding: test-segmentation-66.nii (deflated 100%)\r\n",
      "  adding: test-segmentation-8.nii (deflated 100%)\r\n",
      "  adding: test-segmentation-56.nii (deflated 100%)\r\n",
      "  adding: test-segmentation-42.nii (deflated 100%)\r\n",
      "  adding: test-segmentation-53.nii (deflated 100%)\r\n",
      "  adding: test-segmentation-21.nii (deflated 100%)\r\n",
      "  adding: test-segmentation-3.nii (deflated 100%)\r\n",
      "  adding: test-segmentation-36.nii (deflated 100%)\r\n",
      "  adding: test-segmentation-46.nii (deflated 100%)\r\n",
      "  adding: test-segmentation-39.nii (deflated 100%)\r\n",
      "  adding: test-segmentation-30.nii (deflated 100%)\r\n",
      "  adding: test-segmentation-40.nii (deflated 100%)\r\n",
      "  adding: test-segmentation-24.nii (deflated 100%)\r\n",
      "  adding: test-segmentation-50.nii (deflated 100%)\r\n",
      "  adding: test-segmentation-58.nii (deflated 100%)\r\n",
      "  adding: test-segmentation-26.nii (deflated 100%)\r\n",
      "  adding: test-segmentation-41.nii (deflated 100%)\r\n",
      "  adding: test-segmentation-18.nii (deflated 100%)\r\n",
      "  adding: test-segmentation-67.nii (deflated 100%)\r\n",
      "  adding: test-segmentation-16.nii (deflated 100%)\r\n",
      "  adding: test-segmentation-43.nii (deflated 100%)\r\n",
      "  adding: test-segmentation-51.nii (deflated 100%)\r\n",
      "  adding: test-segmentation-23.nii (deflated 100%)\r\n",
      "  adding: test-segmentation-20.nii (deflated 100%)\r\n",
      "  adding: test-segmentation-63.nii (deflated 100%)\r\n",
      "  adding: test-segmentation-52.nii (deflated 100%)\r\n",
      "  adding: test-segmentation-60.nii (deflated 100%)\r\n",
      "  adding: test-segmentation-7.nii (deflated 100%)\r\n",
      "  adding: test-segmentation-31.nii (deflated 100%)\r\n",
      "  adding: test-segmentation-14.nii (deflated 100%)\r\n",
      "  adding: test-segmentation-54.nii (deflated 100%)\r\n",
      "  adding: test-segmentation-35.nii (deflated 100%)\r\n",
      "  adding: test-segmentation-68.nii (deflated 100%)\r\n",
      "  adding: test-segmentation-48.nii (deflated 100%)\r\n",
      "  adding: test-segmentation-34.nii (deflated 100%)\r\n",
      "  adding: test-segmentation-29.nii (deflated 100%)\r\n",
      "  adding: test-segmentation-33.nii (deflated 100%)\r\n",
      "  adding: test-segmentation-45.nii (deflated 100%)\r\n",
      "  adding: test-segmentation-0.nii (deflated 100%)\r\n",
      "  adding: test-segmentation-62.nii (deflated 100%)\r\n",
      "  adding: test-segmentation-4.nii (deflated 100%)\r\n",
      "  adding: test-segmentation-13.nii (deflated 100%)\r\n",
      "  adding: test-segmentation-69.nii (deflated 100%)\r\n",
      "  adding: test-segmentation-9.nii (deflated 100%)\r\n",
      "  adding: test-segmentation-22.nii (deflated 100%)\r\n",
      "  adding: test-segmentation-32.nii (deflated 100%)\r\n",
      "  adding: __notebook__.ipynb (deflated 90%)\r\n",
      "  adding: test-segmentation-28.nii (deflated 100%)\r\n",
      "  adding: test-segmentation-38.nii (deflated 100%)\r\n",
      "  adding: test-segmentation-10.nii (deflated 100%)\r\n",
      "  adding: test-segmentation-2.nii (deflated 100%)\r\n",
      "  adding: test-segmentation-59.nii (deflated 100%)\r\n",
      "  adding: test-segmentation-61.nii (deflated 100%)\r\n",
      "  adding: test-segmentation-37.nii (deflated 100%)\r\n",
      "  adding: test-segmentation-64.nii (deflated 100%)\r\n",
      "  adding: test-segmentation-11.nii (deflated 100%)\r\n",
      "  adding: test-segmentation-6.nii (deflated 100%)\r\n",
      "  adding: test-segmentation-1.nii (deflated 100%)\r\n",
      "  adding: test-segmentation-47.nii (deflated 100%)\r\n",
      "  adding: test-segmentation-44.nii (deflated 100%)\r\n",
      "  adding: test-segmentation-17.nii (deflated 100%)\r\n",
      "  adding: test-segmentation-15.nii (deflated 100%)\r\n",
      "  adding: test-segmentation-19.nii (deflated 100%)\r\n",
      "  adding: test-segmentation-25.nii (deflated 100%)\r\n",
      "  adding: test-segmentation-65.nii (deflated 100%)\r\n",
      "  adding: test-segmentation-55.nii (deflated 100%)\r\n",
      "  adding: test-segmentation-12.nii (deflated 100%)\r\n",
      "  adding: test-segmentation-5.nii (deflated 100%)\r\n"
     ]
    }
   ],
   "source": [
    "!zip -r segmentation.zip \"./\""
   ]
  },
  {
   "cell_type": "code",
   "execution_count": 7,
   "metadata": {
    "execution": {
     "iopub.execute_input": "2021-04-27T09:11:59.991808Z",
     "iopub.status.busy": "2021-04-27T09:11:59.990941Z",
     "iopub.status.idle": "2021-04-27T09:11:59.995370Z",
     "shell.execute_reply": "2021-04-27T09:11:59.994665Z"
    },
    "papermill": {
     "duration": 0.080088,
     "end_time": "2021-04-27T09:11:59.995540",
     "exception": false,
     "start_time": "2021-04-27T09:11:59.915452",
     "status": "completed"
    },
    "tags": []
   },
   "outputs": [],
   "source": [
    "# images = os.listdir('../input/test-images-lits-256x256/test_images/test_images')\n",
    "# images.sort(key=lambda var:[int(x) if x.isdigit() else x for x in re.findall(r'[^0-9]|[0-9]+', var)])\n",
    "# #images"
   ]
  },
  {
   "cell_type": "code",
   "execution_count": 8,
   "metadata": {
    "execution": {
     "iopub.execute_input": "2021-04-27T09:12:00.140085Z",
     "iopub.status.busy": "2021-04-27T09:12:00.139342Z",
     "iopub.status.idle": "2021-04-27T09:12:00.143197Z",
     "shell.execute_reply": "2021-04-27T09:12:00.142538Z"
    },
    "papermill": {
     "duration": 0.079677,
     "end_time": "2021-04-27T09:12:00.143355",
     "exception": false,
     "start_time": "2021-04-27T09:12:00.063678",
     "status": "completed"
    },
    "tags": []
   },
   "outputs": [],
   "source": [
    "# i = random.randint(120,140)\n",
    "# img = Image.open(os.path.join('../input/test-images-lits-256x256/test_images/test_images', images[i]))\n",
    "# img = img.resize((512,512))\n",
    "\n",
    "# mask = numpy_nii[:,:,i]\n",
    "\n",
    "# visualize(image = img, mask=mask)"
   ]
  },
  {
   "cell_type": "code",
   "execution_count": 9,
   "metadata": {
    "execution": {
     "iopub.execute_input": "2021-04-27T09:12:00.285461Z",
     "iopub.status.busy": "2021-04-27T09:12:00.284578Z",
     "iopub.status.idle": "2021-04-27T09:12:00.288713Z",
     "shell.execute_reply": "2021-04-27T09:12:00.288082Z"
    },
    "papermill": {
     "duration": 0.076976,
     "end_time": "2021-04-27T09:12:00.288890",
     "exception": false,
     "start_time": "2021-04-27T09:12:00.211914",
     "status": "completed"
    },
    "tags": []
   },
   "outputs": [],
   "source": [
    "# test_masks"
   ]
  },
  {
   "cell_type": "code",
   "execution_count": 10,
   "metadata": {
    "execution": {
     "iopub.execute_input": "2021-04-27T09:12:00.431286Z",
     "iopub.status.busy": "2021-04-27T09:12:00.430509Z",
     "iopub.status.idle": "2021-04-27T09:12:00.434504Z",
     "shell.execute_reply": "2021-04-27T09:12:00.433771Z"
    },
    "papermill": {
     "duration": 0.076457,
     "end_time": "2021-04-27T09:12:00.434704",
     "exception": false,
     "start_time": "2021-04-27T09:12:00.358247",
     "status": "completed"
    },
    "tags": []
   },
   "outputs": [],
   "source": [
    "# import shutil\n",
    "# shutil.rmtree('./segmentation.zip')"
   ]
  },
  {
   "cell_type": "code",
   "execution_count": 11,
   "metadata": {
    "execution": {
     "iopub.execute_input": "2021-04-27T09:12:00.577076Z",
     "iopub.status.busy": "2021-04-27T09:12:00.576125Z",
     "iopub.status.idle": "2021-04-27T09:12:00.580563Z",
     "shell.execute_reply": "2021-04-27T09:12:00.579497Z"
    },
    "papermill": {
     "duration": 0.077764,
     "end_time": "2021-04-27T09:12:00.580784",
     "exception": false,
     "start_time": "2021-04-27T09:12:00.503020",
     "status": "completed"
    },
    "tags": []
   },
   "outputs": [],
   "source": [
    "# test_masks.sort(key=lambda var:[int(x) if x.isdigit() else x for x in re.findall(r'[^0-9]|[0-9]+', var)])\n",
    "# file_name = [x.split('_')[0] for x in test_masks]\n",
    "# file_name = np.array(file_name)\n",
    "# np.unique(file_name, return_counts=True)"
   ]
  },
  {
   "cell_type": "code",
   "execution_count": 12,
   "metadata": {
    "execution": {
     "iopub.execute_input": "2021-04-27T09:12:00.731676Z",
     "iopub.status.busy": "2021-04-27T09:12:00.730975Z",
     "iopub.status.idle": "2021-04-27T09:12:00.734793Z",
     "shell.execute_reply": "2021-04-27T09:12:00.734185Z"
    },
    "papermill": {
     "duration": 0.080982,
     "end_time": "2021-04-27T09:12:00.734997",
     "exception": false,
     "start_time": "2021-04-27T09:12:00.654015",
     "status": "completed"
    },
    "tags": []
   },
   "outputs": [],
   "source": [
    "# sample_mask = nib.load('../input/liver-tumor-segmentation/segmentations/segmentation-0.nii')\n",
    "# sample_mask = sample_mask.get_fdata()\n",
    "# sample_mask = np.array(sample_mask)\n",
    "# sample_mask.shape"
   ]
  },
  {
   "cell_type": "code",
   "execution_count": 13,
   "metadata": {
    "execution": {
     "iopub.execute_input": "2021-04-27T09:12:00.886861Z",
     "iopub.status.busy": "2021-04-27T09:12:00.886017Z",
     "iopub.status.idle": "2021-04-27T09:12:00.890328Z",
     "shell.execute_reply": "2021-04-27T09:12:00.889746Z"
    },
    "papermill": {
     "duration": 0.083106,
     "end_time": "2021-04-27T09:12:00.890590",
     "exception": false,
     "start_time": "2021-04-27T09:12:00.807484",
     "status": "completed"
    },
    "tags": []
   },
   "outputs": [],
   "source": [
    "# i = random.randint(40,95)\n",
    "# print(i)\n",
    "# #img = plt.imread(numpy_nii[:,:,i])\n",
    "# visualize(image=numpy_nii[:,:,i])"
   ]
  }
 ],
 "metadata": {
  "kernelspec": {
   "display_name": "Python 3",
   "language": "python",
   "name": "python3"
  },
  "language_info": {
   "codemirror_mode": {
    "name": "ipython",
    "version": 3
   },
   "file_extension": ".py",
   "mimetype": "text/x-python",
   "name": "python",
   "nbconvert_exporter": "python",
   "pygments_lexer": "ipython3",
   "version": "3.7.6"
  },
  "papermill": {
   "default_parameters": {},
   "duration": 281.273999,
   "end_time": "2021-04-27T09:12:01.780359",
   "environment_variables": {},
   "exception": null,
   "input_path": "__notebook__.ipynb",
   "output_path": "__notebook__.ipynb",
   "parameters": {},
   "start_time": "2021-04-27T09:07:20.506360",
   "version": "2.3.2"
  }
 },
 "nbformat": 4,
 "nbformat_minor": 5
}
